{
 "cells": [
  {
   "cell_type": "code",
   "execution_count": null,
   "id": "d10e605c",
   "metadata": {},
   "outputs": [],
   "source": [
    "def normalize_date_col(df, datecol):\n",
    "#   Function name: normalize_date_col\n",
    "#   Description: This function is used to normalize the input dataframe(df) date col\n",
    "#   Parameters: df, datecol\n",
    "#        df(pandas dataframe): The input df that will be transformed\n",
    "#        datecol(str): The target date column\n",
    "#   Return values: df\n",
    "#        df(pandas dataframe): The output df with normalized targetted date column\n",
    "\n",
    "    orig_cols = df.columns\n",
    "    date_formats = ['%d-%b-%Y', '%m/%d/%Y', '%Y-%m-%d', '%b %d, %Y', '%Y/%m/%d', '%Y/%m/%d %H:%M:%S', '%m/%d/%Y %H:%M'] # Add more as needed\n",
    "    df['temp_date_col'] = pd.NaT\n",
    "    for i, dt_format in enumerate(date_formats):\n",
    "        df[f'dt{i}'] = pd.to_datetime(df[datecol], errors='coerce', format = dt_format)\n",
    "        df['temp_date_col'] = df['temp_date_col'].fillna(df[f'dt{i}'])\n",
    "    df[datecol] = df.temp_date_col\n",
    "    df = df[orig_cols]\n",
    "    \n",
    "    return df"
   ]
  },
  {
   "cell_type": "code",
   "execution_count": null,
   "id": "9ab88908",
   "metadata": {},
   "outputs": [],
   "source": [
    "def normalize_str_col(df, col, caps=False):\n",
    "#   Function name: normalize_str_col\n",
    "#   Description: This function is used to normalize the input dataframe(df) str col\n",
    "#   Parameters: df, col, caps\n",
    "#        df(pandas dataframe): The input df that will be transformed\n",
    "#        col(str): The target str column\n",
    "#        caps(Boolean)[default: False]: To put all values in column as ALL CAPS or just Capitalized ex: ACTIVE / Active\n",
    "#   Return values: df\n",
    "#        df(pandas dataframe): The output df with normalized targetted str column\n",
    "\n",
    "    df = df.copy()\n",
    "    df[col] = df[col].str.upper()\n",
    "    if caps == False:\n",
    "        df[col] = df[col].str.capitalize()\n",
    "    df[col] = np.where((df[col].str.upper() == 'NAN') | (df[col].str.upper() == 'NONE'), np.nan, df[col])\n",
    "\n",
    "    return df"
   ]
  },
  {
   "cell_type": "code",
   "execution_count": null,
   "id": "3328fc4d",
   "metadata": {},
   "outputs": [],
   "source": [
    "def get_all_files(sub_folder):\n",
    "    \n",
    "    folder_location = f\"../src/\"\n",
    "    directory_path = Path(folder_location + f\"/{sub_folder}\")\n",
    "    file_paths = [entry for entry in directory_path.iterdir() if entry.is_file()]\n",
    "    file_names = [file.name for file in file_paths]\n",
    "    \n",
    "    return file_names"
   ]
  },
  {
   "cell_type": "code",
   "execution_count": null,
   "id": "dc7c6e15",
   "metadata": {},
   "outputs": [],
   "source": [
    "import_dict = {\"normalize_date_col()\": True, \"normalize_str_col()\": True, \"get_all_files()\": True}\n",
    "import_list = []\n",
    "for function, boolean in import_dict.items():\n",
    "    if boolean == True:\n",
    "        import_list.append(function)\n",
    "\n",
    "print(f\"\"\"Importing following functions: {str(import_list).replace(\"[\", \"\").replace(\"]\", \"\").replace(\"'\", \"\")}\"\"\")"
   ]
  }
 ],
 "metadata": {
  "kernelspec": {
   "display_name": "Fantasy",
   "language": "python",
   "name": "fantasy"
  },
  "language_info": {
   "codemirror_mode": {
    "name": "ipython",
    "version": 3
   },
   "file_extension": ".py",
   "mimetype": "text/x-python",
   "name": "python",
   "nbconvert_exporter": "python",
   "pygments_lexer": "ipython3",
   "version": "3.9.7"
  }
 },
 "nbformat": 4,
 "nbformat_minor": 5
}
